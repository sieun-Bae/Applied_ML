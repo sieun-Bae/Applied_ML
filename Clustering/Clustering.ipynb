{
 "cells": [
  {
   "cell_type": "code",
   "execution_count": 2,
   "metadata": {},
   "outputs": [],
   "source": [
    "import numpy as np\n",
    "import pandas as pd\n",
    "import matplotlib.pyplot as plt\n",
    "from sklearn.preprocessing import normalize\n",
    "from sklearn.cluster import KMeans\n",
    "from sklearn.cluster import AgglomerativeClustering\n",
    "from sklearn.cluster import DBSCAN\n",
    "from sklearn.cluster import SpectralClustering\n",
    "from sklearn import metrics\n",
    "from scipy.spatial.distance import cdist\n",
    "from scipy.cluster.hierarchy import dendrogram, linkage"
   ]
  },
  {
   "cell_type": "code",
   "execution_count": 3,
   "metadata": {},
   "outputs": [],
   "source": [
    "heart_disease = pd.read_csv('heart_disease_cleveland_con.csv')"
   ]
  },
  {
   "cell_type": "code",
   "execution_count": 4,
   "metadata": {},
   "outputs": [
    {
     "data": {
      "text/plain": [
       "(303, 6)"
      ]
     },
     "execution_count": 4,
     "metadata": {},
     "output_type": "execute_result"
    }
   ],
   "source": [
    "heart_disease.shape"
   ]
  },
  {
   "cell_type": "code",
   "execution_count": 5,
   "metadata": {},
   "outputs": [
    {
     "data": {
      "text/html": [
       "<div>\n",
       "<style scoped>\n",
       "    .dataframe tbody tr th:only-of-type {\n",
       "        vertical-align: middle;\n",
       "    }\n",
       "\n",
       "    .dataframe tbody tr th {\n",
       "        vertical-align: top;\n",
       "    }\n",
       "\n",
       "    .dataframe thead th {\n",
       "        text-align: right;\n",
       "    }\n",
       "</style>\n",
       "<table border=\"1\" class=\"dataframe\">\n",
       "  <thead>\n",
       "    <tr style=\"text-align: right;\">\n",
       "      <th></th>\n",
       "      <th>age</th>\n",
       "      <th>trestbps</th>\n",
       "      <th>chol</th>\n",
       "      <th>thalach</th>\n",
       "      <th>oldpeak</th>\n",
       "      <th>label</th>\n",
       "    </tr>\n",
       "  </thead>\n",
       "  <tbody>\n",
       "    <tr>\n",
       "      <th>0</th>\n",
       "      <td>63</td>\n",
       "      <td>145</td>\n",
       "      <td>233</td>\n",
       "      <td>150</td>\n",
       "      <td>2.3</td>\n",
       "      <td>0</td>\n",
       "    </tr>\n",
       "    <tr>\n",
       "      <th>1</th>\n",
       "      <td>67</td>\n",
       "      <td>160</td>\n",
       "      <td>286</td>\n",
       "      <td>108</td>\n",
       "      <td>1.5</td>\n",
       "      <td>1</td>\n",
       "    </tr>\n",
       "    <tr>\n",
       "      <th>2</th>\n",
       "      <td>67</td>\n",
       "      <td>120</td>\n",
       "      <td>229</td>\n",
       "      <td>129</td>\n",
       "      <td>2.6</td>\n",
       "      <td>1</td>\n",
       "    </tr>\n",
       "    <tr>\n",
       "      <th>3</th>\n",
       "      <td>37</td>\n",
       "      <td>130</td>\n",
       "      <td>250</td>\n",
       "      <td>187</td>\n",
       "      <td>3.5</td>\n",
       "      <td>0</td>\n",
       "    </tr>\n",
       "    <tr>\n",
       "      <th>4</th>\n",
       "      <td>41</td>\n",
       "      <td>130</td>\n",
       "      <td>204</td>\n",
       "      <td>172</td>\n",
       "      <td>1.4</td>\n",
       "      <td>0</td>\n",
       "    </tr>\n",
       "  </tbody>\n",
       "</table>\n",
       "</div>"
      ],
      "text/plain": [
       "   age  trestbps  chol  thalach  oldpeak  label\n",
       "0   63       145   233      150      2.3      0\n",
       "1   67       160   286      108      1.5      1\n",
       "2   67       120   229      129      2.6      1\n",
       "3   37       130   250      187      3.5      0\n",
       "4   41       130   204      172      1.4      0"
      ]
     },
     "execution_count": 5,
     "metadata": {},
     "output_type": "execute_result"
    }
   ],
   "source": [
    "heart_disease.head()"
   ]
  },
  {
   "cell_type": "code",
   "execution_count": 6,
   "metadata": {},
   "outputs": [],
   "source": [
    "heart_disease.iloc[:, 0:5] = normalize(heart_disease.iloc[:, 0:5],\n",
    "                                      norm='l2')"
   ]
  },
  {
   "cell_type": "code",
   "execution_count": 7,
   "metadata": {},
   "outputs": [
    {
     "data": {
      "text/html": [
       "<div>\n",
       "<style scoped>\n",
       "    .dataframe tbody tr th:only-of-type {\n",
       "        vertical-align: middle;\n",
       "    }\n",
       "\n",
       "    .dataframe tbody tr th {\n",
       "        vertical-align: top;\n",
       "    }\n",
       "\n",
       "    .dataframe thead th {\n",
       "        text-align: right;\n",
       "    }\n",
       "</style>\n",
       "<table border=\"1\" class=\"dataframe\">\n",
       "  <thead>\n",
       "    <tr style=\"text-align: right;\">\n",
       "      <th></th>\n",
       "      <th>age</th>\n",
       "      <th>trestbps</th>\n",
       "      <th>chol</th>\n",
       "      <th>thalach</th>\n",
       "      <th>oldpeak</th>\n",
       "      <th>label</th>\n",
       "    </tr>\n",
       "  </thead>\n",
       "  <tbody>\n",
       "    <tr>\n",
       "      <th>0</th>\n",
       "      <td>0.197466</td>\n",
       "      <td>0.454485</td>\n",
       "      <td>0.730310</td>\n",
       "      <td>0.470156</td>\n",
       "      <td>0.007209</td>\n",
       "      <td>0</td>\n",
       "    </tr>\n",
       "    <tr>\n",
       "      <th>1</th>\n",
       "      <td>0.190612</td>\n",
       "      <td>0.455194</td>\n",
       "      <td>0.813659</td>\n",
       "      <td>0.307256</td>\n",
       "      <td>0.004267</td>\n",
       "      <td>1</td>\n",
       "    </tr>\n",
       "    <tr>\n",
       "      <th>2</th>\n",
       "      <td>0.225885</td>\n",
       "      <td>0.404571</td>\n",
       "      <td>0.772056</td>\n",
       "      <td>0.434914</td>\n",
       "      <td>0.008766</td>\n",
       "      <td>1</td>\n",
       "    </tr>\n",
       "    <tr>\n",
       "      <th>3</th>\n",
       "      <td>0.108753</td>\n",
       "      <td>0.382105</td>\n",
       "      <td>0.734817</td>\n",
       "      <td>0.549643</td>\n",
       "      <td>0.010287</td>\n",
       "      <td>0</td>\n",
       "    </tr>\n",
       "    <tr>\n",
       "      <th>4</th>\n",
       "      <td>0.136832</td>\n",
       "      <td>0.433857</td>\n",
       "      <td>0.680821</td>\n",
       "      <td>0.574026</td>\n",
       "      <td>0.004672</td>\n",
       "      <td>0</td>\n",
       "    </tr>\n",
       "  </tbody>\n",
       "</table>\n",
       "</div>"
      ],
      "text/plain": [
       "        age  trestbps      chol   thalach   oldpeak  label\n",
       "0  0.197466  0.454485  0.730310  0.470156  0.007209      0\n",
       "1  0.190612  0.455194  0.813659  0.307256  0.004267      1\n",
       "2  0.225885  0.404571  0.772056  0.434914  0.008766      1\n",
       "3  0.108753  0.382105  0.734817  0.549643  0.010287      0\n",
       "4  0.136832  0.433857  0.680821  0.574026  0.004672      0"
      ]
     },
     "execution_count": 7,
     "metadata": {},
     "output_type": "execute_result"
    }
   ],
   "source": [
    "heart_disease.head()"
   ]
  },
  {
   "cell_type": "code",
   "execution_count": 8,
   "metadata": {},
   "outputs": [],
   "source": [
    "X = heart_disease.drop(['label'], axis=1)\n",
    "Y = heart_disease['label']"
   ]
  },
  {
   "cell_type": "code",
   "execution_count": 9,
   "metadata": {},
   "outputs": [
    {
     "data": {
      "text/html": [
       "<div>\n",
       "<style scoped>\n",
       "    .dataframe tbody tr th:only-of-type {\n",
       "        vertical-align: middle;\n",
       "    }\n",
       "\n",
       "    .dataframe tbody tr th {\n",
       "        vertical-align: top;\n",
       "    }\n",
       "\n",
       "    .dataframe thead th {\n",
       "        text-align: right;\n",
       "    }\n",
       "</style>\n",
       "<table border=\"1\" class=\"dataframe\">\n",
       "  <thead>\n",
       "    <tr style=\"text-align: right;\">\n",
       "      <th></th>\n",
       "      <th>age</th>\n",
       "      <th>trestbps</th>\n",
       "      <th>chol</th>\n",
       "      <th>thalach</th>\n",
       "      <th>oldpeak</th>\n",
       "    </tr>\n",
       "  </thead>\n",
       "  <tbody>\n",
       "    <tr>\n",
       "      <th>0</th>\n",
       "      <td>0.197466</td>\n",
       "      <td>0.454485</td>\n",
       "      <td>0.730310</td>\n",
       "      <td>0.470156</td>\n",
       "      <td>0.007209</td>\n",
       "    </tr>\n",
       "    <tr>\n",
       "      <th>1</th>\n",
       "      <td>0.190612</td>\n",
       "      <td>0.455194</td>\n",
       "      <td>0.813659</td>\n",
       "      <td>0.307256</td>\n",
       "      <td>0.004267</td>\n",
       "    </tr>\n",
       "    <tr>\n",
       "      <th>2</th>\n",
       "      <td>0.225885</td>\n",
       "      <td>0.404571</td>\n",
       "      <td>0.772056</td>\n",
       "      <td>0.434914</td>\n",
       "      <td>0.008766</td>\n",
       "    </tr>\n",
       "    <tr>\n",
       "      <th>3</th>\n",
       "      <td>0.108753</td>\n",
       "      <td>0.382105</td>\n",
       "      <td>0.734817</td>\n",
       "      <td>0.549643</td>\n",
       "      <td>0.010287</td>\n",
       "    </tr>\n",
       "    <tr>\n",
       "      <th>4</th>\n",
       "      <td>0.136832</td>\n",
       "      <td>0.433857</td>\n",
       "      <td>0.680821</td>\n",
       "      <td>0.574026</td>\n",
       "      <td>0.004672</td>\n",
       "    </tr>\n",
       "  </tbody>\n",
       "</table>\n",
       "</div>"
      ],
      "text/plain": [
       "        age  trestbps      chol   thalach   oldpeak\n",
       "0  0.197466  0.454485  0.730310  0.470156  0.007209\n",
       "1  0.190612  0.455194  0.813659  0.307256  0.004267\n",
       "2  0.225885  0.404571  0.772056  0.434914  0.008766\n",
       "3  0.108753  0.382105  0.734817  0.549643  0.010287\n",
       "4  0.136832  0.433857  0.680821  0.574026  0.004672"
      ]
     },
     "execution_count": 9,
     "metadata": {},
     "output_type": "execute_result"
    }
   ],
   "source": [
    "X.head()"
   ]
  },
  {
   "cell_type": "markdown",
   "metadata": {},
   "source": [
    "### K-means"
   ]
  },
  {
   "cell_type": "code",
   "execution_count": 10,
   "metadata": {},
   "outputs": [],
   "source": [
    "k_range = range(1,11)"
   ]
  },
  {
   "cell_type": "code",
   "execution_count": 11,
   "metadata": {},
   "outputs": [],
   "source": [
    "k_means_models = [KMeans(n_clusters = k, random_state = 1).fit(X)\n",
    "                  for k in k_range]"
   ]
  },
  {
   "cell_type": "code",
   "execution_count": 12,
   "metadata": {},
   "outputs": [
    {
     "data": {
      "text/plain": [
       "10"
      ]
     },
     "execution_count": 12,
     "metadata": {},
     "output_type": "execute_result"
    }
   ],
   "source": [
    "len(k_means_models)"
   ]
  },
  {
   "cell_type": "code",
   "execution_count": 13,
   "metadata": {},
   "outputs": [],
   "source": [
    "centroids = [one_model.cluster_centers_ for one_model in k_means_models]"
   ]
  },
  {
   "cell_type": "code",
   "execution_count": 14,
   "metadata": {},
   "outputs": [
    {
     "data": {
      "text/plain": [
       "10"
      ]
     },
     "execution_count": 14,
     "metadata": {},
     "output_type": "execute_result"
    }
   ],
   "source": [
    "len(centroids)"
   ]
  },
  {
   "cell_type": "code",
   "execution_count": 15,
   "metadata": {},
   "outputs": [
    {
     "data": {
      "text/plain": [
       "array([[0.20114309, 0.49532738, 0.73966886, 0.40449077, 0.00500002],\n",
       "       [0.14513063, 0.40654916, 0.69619823, 0.57111746, 0.00185317],\n",
       "       [0.16887652, 0.39738526, 0.78818579, 0.43674948, 0.0033467 ],\n",
       "       [0.2044262 , 0.49426452, 0.65707707, 0.52744118, 0.00504958],\n",
       "       [0.14673095, 0.3240805 , 0.86726027, 0.34301744, 0.00500841],\n",
       "       [0.1456886 , 0.3358119 , 0.82547035, 0.42715431, 0.00125321],\n",
       "       [0.16415751, 0.36660916, 0.75943794, 0.50984729, 0.00190269],\n",
       "       [0.16604348, 0.47112824, 0.57848933, 0.6393137 , 0.00191133],\n",
       "       [0.18082474, 0.44381119, 0.73117638, 0.48356983, 0.00385012],\n",
       "       [0.18011336, 0.41777061, 0.82745913, 0.32435317, 0.00444403]])"
      ]
     },
     "execution_count": 15,
     "metadata": {},
     "output_type": "execute_result"
    }
   ],
   "source": [
    "centroids[9]"
   ]
  },
  {
   "cell_type": "code",
   "execution_count": 16,
   "metadata": {},
   "outputs": [],
   "source": [
    "k_euclid = [cdist(X, cent, 'euclidean') for cent in centroids]"
   ]
  },
  {
   "cell_type": "code",
   "execution_count": 17,
   "metadata": {},
   "outputs": [
    {
     "data": {
      "text/plain": [
       "303"
      ]
     },
     "execution_count": 17,
     "metadata": {},
     "output_type": "execute_result"
    }
   ],
   "source": [
    "len(k_euclid[1])"
   ]
  },
  {
   "cell_type": "code",
   "execution_count": 18,
   "metadata": {},
   "outputs": [
    {
     "data": {
      "text/plain": [
       "array([[0.07801354, 0.12814899, 0.09251086, ..., 0.23012176, 0.02414115,\n",
       "        0.17987015],\n",
       "       [0.12903993, 0.29641309, 0.14571416, ..., 0.40795869, 0.19523202,\n",
       "        0.04464888],\n",
       "       [0.10410378, 0.17572401, 0.05995457, ..., 0.2954749 , 0.08736706,\n",
       "        0.13259383],\n",
       "       ...,\n",
       "       [0.2138261 , 0.24017205, 0.29615259, ..., 0.18839238, 0.21492764,\n",
       "        0.35510029],\n",
       "       [0.16436158, 0.05582532, 0.11660267, ..., 0.19402521, 0.06821335,\n",
       "        0.23454875],\n",
       "       [0.24823326, 0.11929545, 0.26117083, ..., 0.05968278, 0.18138825,\n",
       "        0.36362429]])"
      ]
     },
     "execution_count": 18,
     "metadata": {},
     "output_type": "execute_result"
    }
   ],
   "source": [
    "k_euclid[9]"
   ]
  },
  {
   "cell_type": "code",
   "execution_count": 19,
   "metadata": {},
   "outputs": [],
   "source": [
    "dist = [ np.min(ke, axis=1) for ke in k_euclid ]"
   ]
  },
  {
   "cell_type": "code",
   "execution_count": 20,
   "metadata": {},
   "outputs": [
    {
     "data": {
      "text/plain": [
       "array([0.02414115, 0.04464888, 0.05995457, 0.06280569, 0.03267155,\n",
       "       0.05116413, 0.031896  , 0.06322197, 0.02932472, 0.04433083,\n",
       "       0.0191834 , 0.03222091, 0.00447445, 0.03999195, 0.07123231,\n",
       "       0.06786068, 0.04095237, 0.02191678, 0.04680504, 0.03040859,\n",
       "       0.06646046, 0.02218708, 0.03874639, 0.04831538, 0.03913621,\n",
       "       0.04780841, 0.0421228 , 0.03356887, 0.05799048, 0.03364017,\n",
       "       0.03901522, 0.03655159, 0.03960338, 0.02969279, 0.03138953,\n",
       "       0.03702749, 0.04442944, 0.03127864, 0.02085447, 0.0407806 ,\n",
       "       0.03098276, 0.07098729, 0.02912316, 0.03837651, 0.0128245 ,\n",
       "       0.03744341, 0.03712341, 0.05577234, 0.03494967, 0.05452561,\n",
       "       0.04222865, 0.05941277, 0.027598  , 0.02173583, 0.01975774,\n",
       "       0.03620296, 0.03615012, 0.05398014, 0.03605108, 0.04704504,\n",
       "       0.04487523, 0.0653052 , 0.03986214, 0.03779737, 0.04687393,\n",
       "       0.03881536, 0.02002345, 0.03720367, 0.04408329, 0.05093958,\n",
       "       0.05412723, 0.04323166, 0.04627065, 0.05029928, 0.05109092,\n",
       "       0.05746047, 0.02187316, 0.06166206, 0.04945589, 0.03821498,\n",
       "       0.02718211, 0.01446379, 0.06169396, 0.01850581, 0.03457349,\n",
       "       0.03689701, 0.04818172, 0.05125064, 0.0259825 , 0.02346606,\n",
       "       0.03836708, 0.10853406, 0.0363707 , 0.07213251, 0.04159254,\n",
       "       0.03340116, 0.05298768, 0.03467741, 0.05534847, 0.02750237,\n",
       "       0.05432114, 0.07380815, 0.01499722, 0.07845678, 0.04635431,\n",
       "       0.04481507, 0.05505179, 0.03141883, 0.03720178, 0.0570274 ,\n",
       "       0.05775385, 0.01868641, 0.08869868, 0.03940702, 0.02506993,\n",
       "       0.05336513, 0.05214686, 0.06727679, 0.02398419, 0.05825891,\n",
       "       0.0316853 , 0.01866931, 0.02919133, 0.03076581, 0.04002779,\n",
       "       0.04134284, 0.08486527, 0.03695756, 0.03118296, 0.06798134,\n",
       "       0.03286263, 0.05133351, 0.10028011, 0.04447157, 0.02529593,\n",
       "       0.04577153, 0.09600446, 0.06106075, 0.0510476 , 0.02087622,\n",
       "       0.04807138, 0.06198163, 0.04766336, 0.04294296, 0.0411887 ,\n",
       "       0.03837173, 0.05603604, 0.05835365, 0.03667629, 0.06916284,\n",
       "       0.04456247, 0.0455999 , 0.17268337, 0.05986816, 0.03807861,\n",
       "       0.06989181, 0.04822129, 0.03908159, 0.03019399, 0.05753952,\n",
       "       0.04962122, 0.06176091, 0.04697638, 0.05202343, 0.02399323,\n",
       "       0.0561001 , 0.0518945 , 0.03835438, 0.05834462, 0.05599701,\n",
       "       0.06941329, 0.04673034, 0.03675464, 0.01856948, 0.05032282,\n",
       "       0.07220686, 0.02854489, 0.03470864, 0.03356071, 0.03339665,\n",
       "       0.05153523, 0.04971992, 0.06347685, 0.03935282, 0.0266601 ,\n",
       "       0.07127602, 0.05664416, 0.03979999, 0.06320953, 0.05157091,\n",
       "       0.05203465, 0.04949465, 0.04191454, 0.03393471, 0.0801413 ,\n",
       "       0.06151535, 0.01871286, 0.0422891 , 0.01236246, 0.07041998,\n",
       "       0.04246925, 0.06995224, 0.14781467, 0.05529465, 0.0445365 ,\n",
       "       0.06116535, 0.03889749, 0.05945798, 0.02869674, 0.02237392,\n",
       "       0.03028744, 0.0495782 , 0.03112894, 0.05416821, 0.01631897,\n",
       "       0.05697054, 0.05186485, 0.04875564, 0.05478945, 0.01862321,\n",
       "       0.06426249, 0.05852831, 0.09553737, 0.06660604, 0.06312484,\n",
       "       0.06789444, 0.04496695, 0.04095202, 0.04981846, 0.0754584 ,\n",
       "       0.06279559, 0.06259561, 0.02581854, 0.08270657, 0.0387678 ,\n",
       "       0.04468299, 0.04028574, 0.03483229, 0.04317251, 0.03755126,\n",
       "       0.03334458, 0.03742979, 0.04908456, 0.0338751 , 0.04762309,\n",
       "       0.09351214, 0.0473943 , 0.03211571, 0.03213734, 0.03585067,\n",
       "       0.05167306, 0.04491447, 0.02705895, 0.01159259, 0.07222137,\n",
       "       0.01028177, 0.06950722, 0.0799134 , 0.03825925, 0.02230152,\n",
       "       0.04445268, 0.03712625, 0.03067656, 0.04633204, 0.06930973,\n",
       "       0.05724268, 0.05892208, 0.03825317, 0.06650239, 0.05835742,\n",
       "       0.05180033, 0.03864266, 0.06641112, 0.10190245, 0.05501446,\n",
       "       0.06965176, 0.02436044, 0.05665333, 0.03952692, 0.04453891,\n",
       "       0.04796161, 0.0379121 , 0.02838599, 0.05293737, 0.01423773,\n",
       "       0.04134924, 0.07454999, 0.02890705, 0.05229584, 0.02364323,\n",
       "       0.05273911, 0.02898389, 0.05456803, 0.02778559, 0.05156131,\n",
       "       0.04508073, 0.16052191, 0.06094565, 0.01707909, 0.05193167,\n",
       "       0.12350061, 0.05465811, 0.05968278])"
      ]
     },
     "execution_count": 20,
     "metadata": {},
     "output_type": "execute_result"
    }
   ],
   "source": [
    "dist[9]"
   ]
  },
  {
   "cell_type": "code",
   "execution_count": 21,
   "metadata": {},
   "outputs": [],
   "source": [
    "wcss = [ sum(d**2) for d in dist ]"
   ]
  },
  {
   "cell_type": "code",
   "execution_count": 22,
   "metadata": {},
   "outputs": [
    {
     "data": {
      "text/plain": [
       "10"
      ]
     },
     "execution_count": 22,
     "metadata": {},
     "output_type": "execute_result"
    }
   ],
   "source": [
    "len(wcss)"
   ]
  },
  {
   "cell_type": "code",
   "execution_count": 23,
   "metadata": {},
   "outputs": [
    {
     "data": {
      "image/png": "[encoded data removed]",
      "text/plain": [
       "<Figure size 432x288 with 1 Axes>"
      ]
     },
     "metadata": {
      "needs_background": "light"
     },
     "output_type": "display_data"
    }
   ],
   "source": [
    "plt.plot( [ i+1 for i in range(0, len(wcss) ) ], wcss, marker=\"*\" )\n",
    "plt.title( 'Within-cluster sum of squares vs. Number of clusters' )\n",
    "plt.xlabel( 'Number of clusters' )\n",
    "plt.ylabel( 'Within-cluster sum of squares' )\n",
    "plt.show()"
   ]
  },
  {
   "cell_type": "markdown",
   "metadata": {},
   "source": [
    "#### elbow? 5정도?"
   ]
  },
  {
   "cell_type": "code",
   "execution_count": 24,
   "metadata": {},
   "outputs": [],
   "source": [
    "k_means_2 = KMeans(n_clusters=2, random_state = 1).fit(X)"
   ]
  },
  {
   "cell_type": "code",
   "execution_count": 25,
   "metadata": {},
   "outputs": [],
   "source": [
    "k_means_3 = KMeans(n_clusters=3, random_state = 1).fit(X)"
   ]
  },
  {
   "cell_type": "code",
   "execution_count": 26,
   "metadata": {},
   "outputs": [],
   "source": [
    "k_means_4 = KMeans(n_clusters=4, random_state = 1).fit(X)"
   ]
  },
  {
   "cell_type": "markdown",
   "metadata": {},
   "source": [
    "#### Evaluation (Supervised, classification-oriented)"
   ]
  },
  {
   "cell_type": "code",
   "execution_count": 27,
   "metadata": {},
   "outputs": [
    {
     "data": {
      "text/plain": [
       "0.04007320887224546"
      ]
     },
     "execution_count": 27,
     "metadata": {},
     "output_type": "execute_result"
    }
   ],
   "source": [
    "metrics.adjusted_rand_score(Y, k_means_2.labels_) #supervised evaluation"
   ]
  },
  {
   "cell_type": "code",
   "execution_count": 29,
   "metadata": {},
   "outputs": [
    {
     "data": {
      "text/plain": [
       "0.39568345323741005"
      ]
     },
     "execution_count": 29,
     "metadata": {},
     "output_type": "execute_result"
    }
   ],
   "source": [
    "metrics.recall_score(Y, k_means_2.labels_)"
   ]
  },
  {
   "cell_type": "code",
   "execution_count": 30,
   "metadata": {},
   "outputs": [
    {
     "data": {
      "text/plain": [
       "0.3754266211604095"
      ]
     },
     "execution_count": 30,
     "metadata": {},
     "output_type": "execute_result"
    }
   ],
   "source": [
    "metrics.f1_score(Y, k_means_2.labels_)"
   ]
  },
  {
   "cell_type": "markdown",
   "metadata": {},
   "source": [
    "#### Evaluation (Supervised, similarity-oriented)"
   ]
  },
  {
   "cell_type": "code",
   "execution_count": 31,
   "metadata": {},
   "outputs": [
    {
     "data": {
      "text/plain": [
       "0.04007320887224546"
      ]
     },
     "execution_count": 31,
     "metadata": {},
     "output_type": "execute_result"
    }
   ],
   "source": [
    "metrics.adjusted_rand_score(Y, k_means_2.labels_)"
   ]
  },
  {
   "cell_type": "code",
   "execution_count": 32,
   "metadata": {},
   "outputs": [
    {
     "data": {
      "text/plain": [
       "0.024051250042604347"
      ]
     },
     "execution_count": 32,
     "metadata": {},
     "output_type": "execute_result"
    }
   ],
   "source": [
    "metrics.adjusted_rand_score(Y, k_means_3.labels_)"
   ]
  },
  {
   "cell_type": "markdown",
   "metadata": {},
   "source": [
    "#### Evaluation (Unsupervised, silhouette)"
   ]
  },
  {
   "cell_type": "code",
   "execution_count": 28,
   "metadata": {},
   "outputs": [
    {
     "data": {
      "text/plain": [
       "0.365181516848964"
      ]
     },
     "execution_count": 28,
     "metadata": {},
     "output_type": "execute_result"
    }
   ],
   "source": [
    "metrics.silhouette_score(X, k_means_2.labels_, \n",
    "                         metric = \"euclidean\")"
   ]
  },
  {
   "cell_type": "code",
   "execution_count": 43,
   "metadata": {},
   "outputs": [
    {
     "data": {
      "text/plain": [
       "0.28431176856715484"
      ]
     },
     "execution_count": 43,
     "metadata": {},
     "output_type": "execute_result"
    }
   ],
   "source": [
    "metrics.silhouette_score(X, k_means_3.labels_, \n",
    "                         metric = \"euclidean\")"
   ]
  },
  {
   "cell_type": "code",
   "execution_count": 33,
   "metadata": {},
   "outputs": [
    {
     "data": {
      "text/plain": [
       "0.31031592631738264"
      ]
     },
     "execution_count": 33,
     "metadata": {},
     "output_type": "execute_result"
    }
   ],
   "source": [
    "metrics.silhouette_score(X, k_means_4.labels_, \n",
    "                         metric = \"euclidean\")"
   ]
  },
  {
   "cell_type": "code",
   "execution_count": 34,
   "metadata": {},
   "outputs": [
    {
     "data": {
      "text/plain": [
       "1.0207669978293543"
      ]
     },
     "execution_count": 34,
     "metadata": {},
     "output_type": "execute_result"
    }
   ],
   "source": [
    "metrics.davies_bouldin_score(X, k_means_2.labels_)"
   ]
  },
  {
   "cell_type": "markdown",
   "metadata": {},
   "source": [
    "### Hierarchical Clustering"
   ]
  },
  {
   "cell_type": "code",
   "execution_count": 36,
   "metadata": {},
   "outputs": [],
   "source": [
    "h_clustering_2 = AgglomerativeClustering(n_clusters = 2,\n",
    "                                        affinity = 'euclidean',\n",
    "                                        linkage = 'complete').fit(X)"
   ]
  },
  {
   "cell_type": "code",
   "execution_count": 37,
   "metadata": {},
   "outputs": [
    {
     "data": {
      "text/plain": [
       "array([1, 1, 1, 0, 0, 0, 1, 1, 1, 0, 0, 1, 1, 0, 0, 0, 0, 0, 1, 1, 1, 1,\n",
       "       1, 0, 1, 0, 1, 0, 0, 0, 1, 0, 1, 1, 0, 0, 0, 1, 1, 1, 0, 0, 1, 0,\n",
       "       1, 0, 0, 1, 1, 0, 0, 0, 1, 0, 1, 1, 0, 0, 1, 1, 1, 0, 1, 1, 0, 1,\n",
       "       0, 0, 1, 0, 1, 1, 1, 1, 0, 1, 1, 1, 0, 1, 0, 1, 1, 0, 1, 0, 1, 1,\n",
       "       0, 1, 1, 0, 1, 0, 1, 1, 1, 1, 0, 0, 0, 0, 1, 1, 0, 1, 0, 1, 1, 0,\n",
       "       1, 1, 0, 1, 1, 0, 0, 0, 1, 1, 1, 1, 1, 0, 1, 0, 0, 1, 0, 0, 1, 1,\n",
       "       0, 0, 0, 1, 0, 1, 0, 0, 0, 1, 0, 1, 1, 1, 1, 0, 1, 1, 1, 1, 1, 1,\n",
       "       1, 1, 1, 1, 1, 1, 0, 1, 0, 1, 0, 0, 0, 1, 1, 0, 1, 0, 0, 1, 0, 1,\n",
       "       1, 0, 1, 0, 1, 1, 0, 0, 1, 0, 0, 0, 0, 1, 0, 1, 1, 1, 1, 1, 0, 0,\n",
       "       0, 1, 1, 1, 0, 1, 0, 1, 1, 0, 1, 1, 0, 0, 0, 0, 0, 0, 0, 0, 1, 0,\n",
       "       1, 1, 0, 1, 1, 0, 0, 1, 1, 1, 0, 1, 0, 1, 0, 1, 1, 1, 1, 1, 0, 1,\n",
       "       1, 1, 0, 1, 1, 1, 0, 0, 1, 0, 1, 1, 1, 0, 1, 0, 0, 1, 1, 1, 0, 0,\n",
       "       0, 1, 0, 1, 0, 0, 0, 0, 1, 0, 0, 0, 1, 0, 0, 0, 1, 0, 1, 0, 0, 1,\n",
       "       0, 1, 0, 0, 0, 1, 0, 0, 0, 0, 0, 1, 1, 0, 0, 0, 0])"
      ]
     },
     "execution_count": 37,
     "metadata": {},
     "output_type": "execute_result"
    }
   ],
   "source": [
    "h_clustering_2.labels_"
   ]
  },
  {
   "cell_type": "code",
   "execution_count": 38,
   "metadata": {},
   "outputs": [
    {
     "data": {
      "text/plain": [
       "0.5925925925925926"
      ]
     },
     "execution_count": 38,
     "metadata": {},
     "output_type": "execute_result"
    }
   ],
   "source": [
    "metrics.f1_score(Y, h_clustering_2.labels_)"
   ]
  },
  {
   "cell_type": "code",
   "execution_count": 42,
   "metadata": {},
   "outputs": [
    {
     "data": {
      "image/png": "[encoded data removed]",
      "text/plain": [
       "<Figure size 1800x720 with 1 Axes>"
      ]
     },
     "metadata": {
      "needs_background": "light"
     },
     "output_type": "display_data"
    }
   ],
   "source": [
    "plt.figure(figsize = (25,10))\n",
    "plt.title('Hierarchical Clustering Dendrogram')\n",
    "dendrogram(linkage(X, 'complete'))\n",
    "plt.show()"
   ]
  },
  {
   "cell_type": "code",
   "execution_count": 43,
   "metadata": {},
   "outputs": [
    {
     "data": {
      "image/png": "[encoded data removed]",
      "text/plain": [
       "<Figure size 1800x720 with 1 Axes>"
      ]
     },
     "metadata": {
      "needs_background": "light"
     },
     "output_type": "display_data"
    }
   ],
   "source": [
    "plt.figure(figsize=(25,10))\n",
    "plt.title('Hierarchical Clustering Dendrogram')\n",
    "dendrogram(linkage(X, 'average'))\n",
    "plt.show()"
   ]
  },
  {
   "cell_type": "code",
   "execution_count": 44,
   "metadata": {},
   "outputs": [
    {
     "data": {
      "image/png": "[encoded data removed]",
      "text/plain": [
       "<Figure size 1800x720 with 1 Axes>"
      ]
     },
     "metadata": {
      "needs_background": "light"
     },
     "output_type": "display_data"
    }
   ],
   "source": [
    "plt.figure(figsize=(25,10))\n",
    "plt.title('Hierarchical Clustering Dendrogram')\n",
    "dendrogram(linkage(X, 'single'))\n",
    "plt.show()"
   ]
  },
  {
   "cell_type": "code",
   "execution_count": 45,
   "metadata": {},
   "outputs": [
    {
     "data": {
      "image/png": "[encoded data removed]",
      "text/plain": [
       "<Figure size 1800x720 with 1 Axes>"
      ]
     },
     "metadata": {
      "needs_background": "light"
     },
     "output_type": "display_data"
    }
   ],
   "source": [
    "plt.figure(figsize=(25,10))\n",
    "plt.title('Hierarchical Clustering Dendrogram')\n",
    "dendrogram(linkage(X, 'ward'))\n",
    "plt.show()"
   ]
  },
  {
   "cell_type": "markdown",
   "metadata": {},
   "source": [
    "### DBSCAN"
   ]
  },
  {
   "cell_type": "code",
   "execution_count": 46,
   "metadata": {},
   "outputs": [],
   "source": [
    "X = np.array([\n",
    "    [1, 2], [2, 2], [2, 3], [8, 7], [8, 8], [25, 80]\n",
    "])"
   ]
  },
  {
   "cell_type": "code",
   "execution_count": 48,
   "metadata": {},
   "outputs": [],
   "source": [
    "clustering = DBSCAN(eps=3, min_samples=2).fit(X)"
   ]
  },
  {
   "cell_type": "code",
   "execution_count": 49,
   "metadata": {},
   "outputs": [
    {
     "data": {
      "text/plain": [
       "array([ 0,  0,  0,  1,  1, -1])"
      ]
     },
     "execution_count": 49,
     "metadata": {},
     "output_type": "execute_result"
    }
   ],
   "source": [
    "clustering.labels_"
   ]
  },
  {
   "cell_type": "markdown",
   "metadata": {},
   "source": [
    "### Spectral Clustering"
   ]
  },
  {
   "cell_type": "code",
   "execution_count": 50,
   "metadata": {},
   "outputs": [],
   "source": [
    "A = np.array([\n",
    "  [0, 1, 1, 0, 0, 0, 0, 0, 1, 1],\n",
    "  [1, 0, 1, 0, 0, 0, 0, 0, 0, 0],\n",
    "  [1, 1, 0, 0, 0, 0, 0, 0, 0, 0],\n",
    "  [0, 0, 0, 0, 1, 1, 0, 0, 0, 0],\n",
    "  [0, 0, 0, 1, 0, 1, 0, 0, 0, 0],\n",
    "  [0, 0, 0, 1, 1, 0, 1, 1, 0, 0],\n",
    "  [0, 0, 0, 0, 0, 1, 0, 1, 0, 0],\n",
    "  [0, 0, 0, 0, 0, 1, 1, 0, 0, 0],\n",
    "  [1, 0, 0, 0, 0, 0, 0, 0, 0, 1],\n",
    "  [1, 0, 0, 0, 0, 0, 0, 0, 1, 0]]) #Adjacency Matrix"
   ]
  },
  {
   "cell_type": "code",
   "execution_count": 52,
   "metadata": {},
   "outputs": [],
   "source": [
    "D = np.diag(A.sum(axis=1)) #Degree matrix"
   ]
  },
  {
   "cell_type": "code",
   "execution_count": 53,
   "metadata": {},
   "outputs": [
    {
     "data": {
      "text/plain": [
       "array([[4, 0, 0, 0, 0, 0, 0, 0, 0, 0],\n",
       "       [0, 2, 0, 0, 0, 0, 0, 0, 0, 0],\n",
       "       [0, 0, 2, 0, 0, 0, 0, 0, 0, 0],\n",
       "       [0, 0, 0, 2, 0, 0, 0, 0, 0, 0],\n",
       "       [0, 0, 0, 0, 2, 0, 0, 0, 0, 0],\n",
       "       [0, 0, 0, 0, 0, 4, 0, 0, 0, 0],\n",
       "       [0, 0, 0, 0, 0, 0, 2, 0, 0, 0],\n",
       "       [0, 0, 0, 0, 0, 0, 0, 2, 0, 0],\n",
       "       [0, 0, 0, 0, 0, 0, 0, 0, 2, 0],\n",
       "       [0, 0, 0, 0, 0, 0, 0, 0, 0, 2]])"
      ]
     },
     "execution_count": 53,
     "metadata": {},
     "output_type": "execute_result"
    }
   ],
   "source": [
    "D"
   ]
  },
  {
   "cell_type": "code",
   "execution_count": 54,
   "metadata": {},
   "outputs": [],
   "source": [
    "L = D-A #Laplacian matrix"
   ]
  },
  {
   "cell_type": "code",
   "execution_count": 55,
   "metadata": {},
   "outputs": [],
   "source": [
    "vals, vecs = np.linalg.eig(L)"
   ]
  },
  {
   "cell_type": "code",
   "execution_count": 56,
   "metadata": {},
   "outputs": [],
   "source": [
    "#sort based on the eigenvalues (고유값)\n",
    "vecs = vecs[:, np.argsort(vals)]\n",
    "vals = vals[np.argsort(vals)]"
   ]
  },
  {
   "cell_type": "code",
   "execution_count": 57,
   "metadata": {},
   "outputs": [],
   "source": [
    "kmeans = KMeans(n_clusters = 3)"
   ]
  },
  {
   "cell_type": "code",
   "execution_count": 58,
   "metadata": {},
   "outputs": [
    {
     "data": {
      "text/plain": [
       "array([0, 1, 1, 0, 0, 2, 2, 2, 0, 0], dtype=int32)"
      ]
     },
     "execution_count": 58,
     "metadata": {},
     "output_type": "execute_result"
    }
   ],
   "source": [
    "kmeans.fit(vecs[:, 1:4])\n",
    "kmeans.labels_"
   ]
  },
  {
   "cell_type": "code",
   "execution_count": 60,
   "metadata": {},
   "outputs": [
    {
     "name": "stderr",
     "output_type": "stream",
     "text": [
      "/usr/local/lib/python3.7/site-packages/sklearn/cluster/spectral.py:462: UserWarning: The spectral clustering API has changed. ``fit``now constructs an affinity matrix from data. To use a custom affinity matrix, set ``affinity=precomputed``.\n",
      "  warnings.warn(\"The spectral clustering API has changed. ``fit``\"\n"
     ]
    },
    {
     "data": {
      "text/plain": [
       "array([1, 1, 1, 0, 0, 0, 0, 0, 1, 1], dtype=int32)"
      ]
     },
     "execution_count": 60,
     "metadata": {},
     "output_type": "execute_result"
    }
   ],
   "source": [
    "clustering = SpectralClustering(n_clusters = 2, random_state = 0).fit(A)\n",
    "clustering.labels_"
   ]
  },
  {
   "cell_type": "code",
   "execution_count": null,
   "metadata": {},
   "outputs": [],
   "source": []
  }
 ],
 "metadata": {
  "kernelspec": {
   "display_name": "Python 3",
   "language": "python",
   "name": "python3"
  },
  "language_info": {
   "codemirror_mode": {
    "name": "ipython",
    "version": 3
   },
   "file_extension": ".py",
   "mimetype": "text/x-python",
   "name": "python",
   "nbconvert_exporter": "python",
   "pygments_lexer": "ipython3",
   "version": "3.7.4"
  }
 },
 "nbformat": 4,
 "nbformat_minor": 2
}
