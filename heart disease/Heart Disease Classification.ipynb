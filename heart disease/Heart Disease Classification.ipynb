{
 "cells": [
  {
   "cell_type": "markdown",
   "metadata": {},
   "source": [
    "path: '/dsc3011/'"
   ]
  },
  {
   "cell_type": "code",
   "execution_count": 132,
   "metadata": {},
   "outputs": [],
   "source": [
    "import pandas as pd\n",
    "import numpy as np"
   ]
  },
  {
   "cell_type": "markdown",
   "metadata": {},
   "source": [
    "target: value 0(<50% diameter narrowing), value1(>50% diameter narrowing)\n",
    "\n",
    "• X_train.csv: 233 samples, 13 features (Id should not be counted as a feature)\n",
    "age, \n",
    "sex, \n",
    "- chest pain type(typical angina, atyipical angina, non-anginal angina, asymptomatic, \n",
    "trestbps(in mm Hg on admission to the hospital), \n",
    "serum cholestoral in mg/dl, \n",
    "fasting blood sugar(1,0), 공복시 혈당 \n",
    "- restecg(resting electrocardiographic results), 0-2\n",
    "thalach(maximum heart rate achieved, \n",
    "exang(exercise induced angina_협심증), \n",
    "oldpeak=ST depression induced by exercise relative to rest, \n",
    "- slope=the slope of the peak exercise ST segment (1:upsloping, 2:flat, 3:downsloping) 심근허혈과 경색, \n",
    "ca: number of major vessels(0-3) coloered by flourosopy 형광 투시, \n",
    "thal(3=normal, 6=fixed defect, 7=reversable defect),\n",
    "\n",
    "num= diagnosis of heart disease(angiographic disease status), 0 <50% diameter narrowing, 1: >50% diameter narrowing) \n",
    "• y_train.csv: 233 samples, 1 target (1 or 0, each number represents a category)\n",
    "• X_test.csv: 70 samples, 13 features (the dataset you test your model)"
   ]
  },
  {
   "cell_type": "code",
   "execution_count": 134,
   "metadata": {},
   "outputs": [],
   "source": [
    "from sklearn.model_selection import train_test_split\n",
    "from sklearn import metrics\n",
    "from sklearn.naive_bayes import GaussianNB"
   ]
  },
  {
   "cell_type": "markdown",
   "metadata": {},
   "source": [
    "### Naive Bayes"
   ]
  },
  {
   "cell_type": "markdown",
   "metadata": {},
   "source": [
    "## What if we change the factor?"
   ]
  },
  {
   "cell_type": "code",
   "execution_count": 243,
   "metadata": {},
   "outputs": [],
   "source": [
    "#X_train data: 233, y_train data: 233\n",
    "#1st trial: test_size == 0.3\n",
    "X_train = pd.read_csv('dsc3011/X_train.csv')\n",
    "y_train = pd.read_csv('dsc3011/y_train.csv')\n",
    "X_test = pd.read_csv('dsc3011/X_test.csv')\n",
    "\n",
    "cp_ty = list()\n",
    "cp_aty = list()\n",
    "cp_non = list()\n",
    "\n",
    "llist = X_train['cp']\n",
    "\n",
    "for i in range(0,233):\n",
    "    if llist[i] == 0:\n",
    "        cp_ty.append(1)\n",
    "        cp_aty.append(0)\n",
    "        cp_non.append(0)\n",
    "    elif llist[i] == 1:\n",
    "        cp_ty.append(0)\n",
    "        cp_aty.append(1)\n",
    "        cp_non.append(0)\n",
    "    elif llist[i] == 2:\n",
    "        cp_ty.append(0)\n",
    "        cp_aty.append(0)\n",
    "        cp_non.append(1)\n",
    "    elif llist[i] == 3:\n",
    "        cp_ty.append(0)\n",
    "        cp_aty.append(0)\n",
    "        cp_non.append(0)\n",
    "        \n",
    "X_train['cp_ty'] = cp_ty\n",
    "X_train['cp_aty'] = cp_aty\n",
    "X_train['cp_non'] = cp_non\n",
    "\n",
    "cp_ty = list()\n",
    "cp_aty = list()\n",
    "cp_non = list()\n",
    "\n",
    "llist = X_test['cp']\n",
    "for i in range(0,70):\n",
    "    if llist[i] == 0:\n",
    "        cp_ty.append(1)\n",
    "        cp_aty.append(0)\n",
    "        cp_non.append(0)\n",
    "    elif llist[i] == 1:\n",
    "        cp_ty.append(0)\n",
    "        cp_aty.append(1)\n",
    "        cp_non.append(0)\n",
    "    elif llist[i] == 2:\n",
    "        cp_ty.append(0)\n",
    "        cp_aty.append(0)\n",
    "        cp_non.append(1)\n",
    "    elif llist[i] == 3:\n",
    "        cp_ty.append(0)\n",
    "        cp_aty.append(0)\n",
    "        cp_non.append(0)\n",
    "\n",
    "X_test['cp_ty'] = cp_ty\n",
    "X_test['cp_aty'] = cp_aty\n",
    "X_test['cp_non'] = cp_non\n",
    "\n",
    "idd = X_test['id']\n",
    "\n",
    "X_train = X_train.drop(['id'], 1)\n",
    "X_train = X_train.drop(['cp'], 1)\n",
    "y_train = y_train['target']\n",
    "\n",
    "X_test = X_test.drop(['id'], 1)\n",
    "X_test = X_test.drop(['cp'], 1)"
   ]
  },
  {
   "cell_type": "code",
   "execution_count": 232,
   "metadata": {},
   "outputs": [
    {
     "name": "stdout",
     "output_type": "stream",
     "text": [
      "[0 0 0 0 0 1 0 0 1 0 0 0 1 1 0 0 0 1 1 0 0 1 1 0 0 1 0 0 1 0 0 1 0 0 1 0 0\n",
      " 1 1 1 1 1 1 0 0 1 1 1 1 1 1 1 1 1 1 0 1 1 1 1 1 1 1 0 1 1 1 1 0 0]\n"
     ]
    }
   ],
   "source": [
    "gnb = GaussianNB()\n",
    "gnb.fit(X_train, y_train)\n",
    "y_pred = gnb.predict(X_test)\n",
    "\n",
    "print(y_pred)\n",
    "sample_submissions = pd.DataFrame({'id':idd, 'target':y_pred})\n",
    "sample_submissions = sample_submissions.set_index(\"id\")\n",
    "sample_submissions.to_csv(\"sample_submissions.csv\", mode = 'w')"
   ]
  },
  {
   "cell_type": "markdown",
   "metadata": {},
   "source": [
    "### Decision Trees"
   ]
  },
  {
   "cell_type": "code",
   "execution_count": 234,
   "metadata": {},
   "outputs": [],
   "source": [
    "from sklearn.tree import DecisionTreeClassifier"
   ]
  },
  {
   "cell_type": "code",
   "execution_count": 235,
   "metadata": {},
   "outputs": [],
   "source": [
    "dt = DecisionTreeClassifier()"
   ]
  },
  {
   "cell_type": "code",
   "execution_count": 236,
   "metadata": {},
   "outputs": [
    {
     "data": {
      "text/plain": [
       "DecisionTreeClassifier(class_weight=None, criterion='gini', max_depth=None,\n",
       "                       max_features=None, max_leaf_nodes=None,\n",
       "                       min_impurity_decrease=0.0, min_impurity_split=None,\n",
       "                       min_samples_leaf=1, min_samples_split=2,\n",
       "                       min_weight_fraction_leaf=0.0, presort=False,\n",
       "                       random_state=None, splitter='best')"
      ]
     },
     "execution_count": 236,
     "metadata": {},
     "output_type": "execute_result"
    }
   ],
   "source": [
    "dt.fit(X_train, y_train)"
   ]
  },
  {
   "cell_type": "code",
   "execution_count": 237,
   "metadata": {},
   "outputs": [],
   "source": [
    "y_pred = dt.predict(X_test)"
   ]
  },
  {
   "cell_type": "code",
   "execution_count": 238,
   "metadata": {},
   "outputs": [],
   "source": [
    "sample_submissions = pd.DataFrame({'id':idd, 'target':y_pred})\n",
    "sample_submissions = sample_submissions.set_index(\"id\")\n",
    "sample_submissions.to_csv(\"sample_submissions.csv\", mode = 'w')"
   ]
  },
  {
   "cell_type": "markdown",
   "metadata": {},
   "source": [
    "#### using DT with entropy criteria "
   ]
  },
  {
   "cell_type": "code",
   "execution_count": 117,
   "metadata": {},
   "outputs": [],
   "source": [
    "dt_2=DecisionTreeClassifier(criterion=\"entropy\")"
   ]
  },
  {
   "cell_type": "code",
   "execution_count": 118,
   "metadata": {},
   "outputs": [
    {
     "data": {
      "text/plain": [
       "DecisionTreeClassifier(class_weight=None, criterion='entropy', max_depth=None,\n",
       "                       max_features=None, max_leaf_nodes=None,\n",
       "                       min_impurity_decrease=0.0, min_impurity_split=None,\n",
       "                       min_samples_leaf=1, min_samples_split=2,\n",
       "                       min_weight_fraction_leaf=0.0, presort=False,\n",
       "                       random_state=None, splitter='best')"
      ]
     },
     "execution_count": 118,
     "metadata": {},
     "output_type": "execute_result"
    }
   ],
   "source": [
    "dt_2.fit(X_train, y_train)"
   ]
  },
  {
   "cell_type": "code",
   "execution_count": 119,
   "metadata": {},
   "outputs": [],
   "source": [
    "y_pred=dt_2.predict(X_test)\n",
    "sample_submissions = pd.DataFrame({'id':X_test['id'], 'target':y_pred})\n",
    "sample_submissions = sample_submissions.set_index(\"id\")\n",
    "sample_submissions.to_csv(\"sample_submissions.csv\", mode = 'w')"
   ]
  },
  {
   "cell_type": "markdown",
   "metadata": {},
   "source": [
    "### k_Nearest Neighbors"
   ]
  },
  {
   "cell_type": "code",
   "execution_count": 217,
   "metadata": {},
   "outputs": [],
   "source": [
    "from sklearn.neighbors import KNeighborsClassifier"
   ]
  },
  {
   "cell_type": "code",
   "execution_count": 218,
   "metadata": {},
   "outputs": [],
   "source": [
    "neigh = KNeighborsClassifier(n_neighbors=5, metric='minkowski', p=2)"
   ]
  },
  {
   "cell_type": "code",
   "execution_count": 219,
   "metadata": {},
   "outputs": [
    {
     "data": {
      "text/plain": [
       "KNeighborsClassifier(algorithm='auto', leaf_size=30, metric='minkowski',\n",
       "                     metric_params=None, n_jobs=None, n_neighbors=5, p=2,\n",
       "                     weights='uniform')"
      ]
     },
     "execution_count": 219,
     "metadata": {},
     "output_type": "execute_result"
    }
   ],
   "source": [
    "neigh.fit(X_train, y_train)"
   ]
  },
  {
   "cell_type": "code",
   "execution_count": 220,
   "metadata": {},
   "outputs": [],
   "source": [
    "y_pred = neigh.predict(X_test)"
   ]
  },
  {
   "cell_type": "code",
   "execution_count": 222,
   "metadata": {},
   "outputs": [],
   "source": [
    "sample_submissions = pd.DataFrame({'id':idd, 'target':y_pred})\n",
    "sample_submissions = sample_submissions.set_index(\"id\")\n",
    "sample_submissions.to_csv(\"sample_submissions.csv\", mode = 'w')"
   ]
  },
  {
   "cell_type": "markdown",
   "metadata": {},
   "source": [
    "k=5, Manhattan"
   ]
  },
  {
   "cell_type": "code",
   "execution_count": 224,
   "metadata": {},
   "outputs": [],
   "source": [
    "neigh = KNeighborsClassifier(n_neighbors=5, metric='minkowski', p=1)\n",
    "neigh.fit(X_train, y_train)\n",
    "y_pred = neigh.predict(X_test)\n",
    "sample_submissions = pd.DataFrame({'id':idd, 'target':y_pred})\n",
    "sample_submissions = sample_submissions.set_index(\"id\")\n",
    "sample_submissions.to_csv(\"sample_submissions.csv\", mode = 'w')"
   ]
  },
  {
   "cell_type": "code",
   "execution_count": 244,
   "metadata": {},
   "outputs": [],
   "source": [
    "neigh = KNeighborsClassifier(n_neighbors=3, metric='minkowski', p=2)\n",
    "neigh.fit(X_train, y_train)\n",
    "y_pred = neigh.predict(X_test)\n",
    "sample_submissions = pd.DataFrame({'id':idd, 'target':y_pred})\n",
    "sample_submissions = sample_submissions.set_index(\"id\")\n",
    "sample_submissions.to_csv(\"sample_submissions.csv\", mode = 'w')"
   ]
  },
  {
   "cell_type": "markdown",
   "metadata": {},
   "source": [
    "### SVM"
   ]
  },
  {
   "cell_type": "code",
   "execution_count": 226,
   "metadata": {},
   "outputs": [],
   "source": [
    "from sklearn.svm import SVC"
   ]
  },
  {
   "cell_type": "code",
   "execution_count": 227,
   "metadata": {},
   "outputs": [],
   "source": [
    "svc = SVC(kernel = 'linear')"
   ]
  },
  {
   "cell_type": "code",
   "execution_count": 229,
   "metadata": {},
   "outputs": [],
   "source": [
    "svc.fit(X_train, y_train)\n",
    "y_pred = svc.predict(X_test)\n",
    "sample_submissions = pd.DataFrame({'id':idd, 'target':y_pred})\n",
    "sample_submissions = sample_submissions.set_index(\"id\")\n",
    "sample_submissions.to_csv(\"sample_submissions.csv\", mode = 'w')"
   ]
  },
  {
   "cell_type": "code",
   "execution_count": 241,
   "metadata": {},
   "outputs": [
    {
     "name": "stderr",
     "output_type": "stream",
     "text": [
      "/usr/local/lib/python3.7/site-packages/sklearn/svm/base.py:193: FutureWarning: The default value of gamma will change from 'auto' to 'scale' in version 0.22 to account better for unscaled features. Set gamma explicitly to 'auto' or 'scale' to avoid this warning.\n",
      "  \"avoid this warning.\", FutureWarning)\n"
     ]
    }
   ],
   "source": [
    "svc = SVC(kernel='rbf')\n",
    "svc.fit(X_train,y_train)\n",
    "y_pred = svc.predict(X_test)\n",
    "sample_submissions = pd.DataFrame({'id':idd, 'target':y_pred})\n",
    "sample_submissions = sample_submissions.set_index(\"id\")\n",
    "sample_submissions.to_csv(\"sample_submissions.csv\", mode = 'w')"
   ]
  },
  {
   "cell_type": "code",
   "execution_count": null,
   "metadata": {},
   "outputs": [],
   "source": []
  }
 ],
 "metadata": {
  "kernelspec": {
   "display_name": "Python 3",
   "language": "python",
   "name": "python3"
  },
  "language_info": {
   "codemirror_mode": {
    "name": "ipython",
    "version": 3
   },
   "file_extension": ".py",
   "mimetype": "text/x-python",
   "name": "python",
   "nbconvert_exporter": "python",
   "pygments_lexer": "ipython3",
   "version": "3.7.4"
  }
 },
 "nbformat": 4,
 "nbformat_minor": 2
}
